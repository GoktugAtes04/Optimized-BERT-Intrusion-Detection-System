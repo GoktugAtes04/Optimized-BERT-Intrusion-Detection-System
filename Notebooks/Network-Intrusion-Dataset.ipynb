{
 "cells": [
  {
   "cell_type": "code",
   "execution_count": null,
   "metadata": {
    "colab": {
     "base_uri": "https://localhost:8080/"
    },
    "id": "TISD0oJRK8QR",
    "outputId": "b759ce42-82a5-45e4-a32f-1cf3b2965e4b"
   },
   "outputs": [
    {
     "name": "stdout",
     "output_type": "stream",
     "text": [
      "Collecting datasets\n",
      "  Downloading datasets-3.4.1-py3-none-any.whl.metadata (19 kB)\n",
      "Requirement already satisfied: filelock in /usr/local/lib/python3.11/dist-packages (from datasets) (3.17.0)\n",
      "Requirement already satisfied: numpy>=1.17 in /usr/local/lib/python3.11/dist-packages (from datasets) (2.0.2)\n",
      "Requirement already satisfied: pyarrow>=15.0.0 in /usr/local/lib/python3.11/dist-packages (from datasets) (18.1.0)\n",
      "Collecting dill<0.3.9,>=0.3.0 (from datasets)\n",
      "  Downloading dill-0.3.8-py3-none-any.whl.metadata (10 kB)\n",
      "Requirement already satisfied: pandas in /usr/local/lib/python3.11/dist-packages (from datasets) (2.2.2)\n",
      "Requirement already satisfied: requests>=2.32.2 in /usr/local/lib/python3.11/dist-packages (from datasets) (2.32.3)\n",
      "Requirement already satisfied: tqdm>=4.66.3 in /usr/local/lib/python3.11/dist-packages (from datasets) (4.67.1)\n",
      "Collecting xxhash (from datasets)\n",
      "  Downloading xxhash-3.5.0-cp311-cp311-manylinux_2_17_x86_64.manylinux2014_x86_64.whl.metadata (12 kB)\n",
      "Collecting multiprocess<0.70.17 (from datasets)\n",
      "  Downloading multiprocess-0.70.16-py311-none-any.whl.metadata (7.2 kB)\n",
      "Requirement already satisfied: fsspec<=2024.12.0,>=2023.1.0 in /usr/local/lib/python3.11/dist-packages (from fsspec[http]<=2024.12.0,>=2023.1.0->datasets) (2024.10.0)\n",
      "Requirement already satisfied: aiohttp in /usr/local/lib/python3.11/dist-packages (from datasets) (3.11.13)\n",
      "Requirement already satisfied: huggingface-hub>=0.24.0 in /usr/local/lib/python3.11/dist-packages (from datasets) (0.28.1)\n",
      "Requirement already satisfied: packaging in /usr/local/lib/python3.11/dist-packages (from datasets) (24.2)\n",
      "Requirement already satisfied: pyyaml>=5.1 in /usr/local/lib/python3.11/dist-packages (from datasets) (6.0.2)\n",
      "Requirement already satisfied: aiohappyeyeballs>=2.3.0 in /usr/local/lib/python3.11/dist-packages (from aiohttp->datasets) (2.6.1)\n",
      "Requirement already satisfied: aiosignal>=1.1.2 in /usr/local/lib/python3.11/dist-packages (from aiohttp->datasets) (1.3.2)\n",
      "Requirement already satisfied: attrs>=17.3.0 in /usr/local/lib/python3.11/dist-packages (from aiohttp->datasets) (25.3.0)\n",
      "Requirement already satisfied: frozenlist>=1.1.1 in /usr/local/lib/python3.11/dist-packages (from aiohttp->datasets) (1.5.0)\n",
      "Requirement already satisfied: multidict<7.0,>=4.5 in /usr/local/lib/python3.11/dist-packages (from aiohttp->datasets) (6.1.0)\n",
      "Requirement already satisfied: propcache>=0.2.0 in /usr/local/lib/python3.11/dist-packages (from aiohttp->datasets) (0.3.0)\n",
      "Requirement already satisfied: yarl<2.0,>=1.17.0 in /usr/local/lib/python3.11/dist-packages (from aiohttp->datasets) (1.18.3)\n",
      "Requirement already satisfied: typing-extensions>=3.7.4.3 in /usr/local/lib/python3.11/dist-packages (from huggingface-hub>=0.24.0->datasets) (4.12.2)\n",
      "Requirement already satisfied: charset-normalizer<4,>=2 in /usr/local/lib/python3.11/dist-packages (from requests>=2.32.2->datasets) (3.4.1)\n",
      "Requirement already satisfied: idna<4,>=2.5 in /usr/local/lib/python3.11/dist-packages (from requests>=2.32.2->datasets) (3.10)\n",
      "Requirement already satisfied: urllib3<3,>=1.21.1 in /usr/local/lib/python3.11/dist-packages (from requests>=2.32.2->datasets) (2.3.0)\n",
      "Requirement already satisfied: certifi>=2017.4.17 in /usr/local/lib/python3.11/dist-packages (from requests>=2.32.2->datasets) (2025.1.31)\n",
      "Requirement already satisfied: python-dateutil>=2.8.2 in /usr/local/lib/python3.11/dist-packages (from pandas->datasets) (2.8.2)\n",
      "Requirement already satisfied: pytz>=2020.1 in /usr/local/lib/python3.11/dist-packages (from pandas->datasets) (2025.1)\n",
      "Requirement already satisfied: tzdata>=2022.7 in /usr/local/lib/python3.11/dist-packages (from pandas->datasets) (2025.1)\n",
      "Requirement already satisfied: six>=1.5 in /usr/local/lib/python3.11/dist-packages (from python-dateutil>=2.8.2->pandas->datasets) (1.17.0)\n",
      "Downloading datasets-3.4.1-py3-none-any.whl (487 kB)\n",
      "\u001b[2K   \u001b[90m━━━━━━━━━━━━━━━━━━━━━━━━━━━━━━━━━━━━━━━━\u001b[0m \u001b[32m487.4/487.4 kB\u001b[0m \u001b[31m25.4 MB/s\u001b[0m eta \u001b[36m0:00:00\u001b[0m\n",
      "\u001b[?25hDownloading dill-0.3.8-py3-none-any.whl (116 kB)\n",
      "\u001b[2K   \u001b[90m━━━━━━━━━━━━━━━━━━━━━━━━━━━━━━━━━━━━━━━━\u001b[0m \u001b[32m116.3/116.3 kB\u001b[0m \u001b[31m12.5 MB/s\u001b[0m eta \u001b[36m0:00:00\u001b[0m\n",
      "\u001b[?25hDownloading multiprocess-0.70.16-py311-none-any.whl (143 kB)\n",
      "\u001b[2K   \u001b[90m━━━━━━━━━━━━━━━━━━━━━━━━━━━━━━━━━━━━━━━━\u001b[0m \u001b[32m143.5/143.5 kB\u001b[0m \u001b[31m12.7 MB/s\u001b[0m eta \u001b[36m0:00:00\u001b[0m\n",
      "\u001b[?25hDownloading xxhash-3.5.0-cp311-cp311-manylinux_2_17_x86_64.manylinux2014_x86_64.whl (194 kB)\n",
      "\u001b[2K   \u001b[90m━━━━━━━━━━━━━━━━━━━━━━━━━━━━━━━━━━━━━━━━\u001b[0m \u001b[32m194.8/194.8 kB\u001b[0m \u001b[31m18.3 MB/s\u001b[0m eta \u001b[36m0:00:00\u001b[0m\n",
      "\u001b[?25hInstalling collected packages: xxhash, dill, multiprocess, datasets\n",
      "Successfully installed datasets-3.4.1 dill-0.3.8 multiprocess-0.70.16 xxhash-3.5.0\n"
     ]
    }
   ],
   "source": [
    "!pip install datasets"
   ]
  },
  {
   "cell_type": "code",
   "execution_count": null,
   "metadata": {
    "id": "SNKDlbsRLyEi"
   },
   "outputs": [],
   "source": [
    "from huggingface_hub import login\n",
    "\n",
    "login(token=\"HUGGING_FACE_KEY\")"
   ]
  },
  {
   "cell_type": "code",
   "execution_count": null,
   "metadata": {
    "colab": {
     "base_uri": "https://localhost:8080/",
     "height": 833,
     "referenced_widgets": [
      "34af61f6992c42689e29348a4bfb4666",
      "49f505593048430c8bb66f458b8f224e",
      "c804d25d619a448faba72bb3c099ba4c",
      "552157d1a19140d9b93900faa648f5f4",
      "546af2566949435f82574a302823116f",
      "d5c35f5f84434d718dcb9dd6ebe506bc",
      "0e05d801f65540949a628d9fa51c4cda",
      "cd1d34b6dcd24f22b6e85319e4cd6c37",
      "ae1696de60104399bb5e17aa8411980a",
      "30d9b19e7eda4cb28392b1fdc404699c",
      "afc70771c879412087f93982e963f85d",
      "790c9a60b2c04312897612a3334d963d",
      "7c83d205176a4f82aa18dd6dd3f7dc00",
      "a02a6653436641f9b2735d60d4395cc8",
      "b4af963f324c45b8914a95abaf132571",
      "012504e6afd2460b856bda2be014fd49",
      "fde86cc8f2bb43399681b4681c5c48ac",
      "218881e372014083944b225c3c62ebb7",
      "dadf97c9bb3b44cfb0b9d3779daa18b1",
      "d7364787a65e492694c81faee6df0c95",
      "2bd4704ab5684af2925998fe7006ff55",
      "809cb41fb6d44fc89c9b9d3535065958",
      "5c49840d21c54e7f9c8d5b9f4c240903",
      "ca453ab8adc14b72a399f1dab85d9f23",
      "2fc47db7b55a4a03950693fd791ebcb4",
      "df9e84f3febc4087bf90f52f3ed16c42",
      "f41db629f94a4bd9a626d4855657ef95",
      "cf8795a6af6e41dead543d5376f0b850",
      "adcd33f40b234a619b6fb865470dd113",
      "531843acbbd94ace8faecbb03789d0fa",
      "18fbe560113446acbb5c3f14302da434",
      "7b87e679bf0f49078e47454a17edd5f1",
      "3f7b4688f70949a98f1e2697835e3009",
      "ec32bd8ffbdc4ab2be357e8bb9aa648b",
      "f89124a5324a49c8aa3e83c471bf2e45",
      "e12fbb2acfdb468baeed35b1035ca324",
      "9da3bb23cd1140d39072d12bb2a871cd",
      "68d81028e6e446839938b5eb86b14314",
      "7e925491ac9241d6bd37145e0f6bda34",
      "51af77b807f846b19518fd5bd555a69e",
      "e148ce08788c46ef80e0b642c0d3a52b",
      "0e49d51cf75e4d7484880d79cf0418c4",
      "ceef588917c149508555cbd6830da693",
      "645af1a194ff45998c4879fc8d243999",
      "f1bfb3a4952d48fd88d25d58089b69b4",
      "e86ea655e7f44ea98c621f0827da53c8",
      "67ca2b6f3b554a5ca6ef1168844d3a7d",
      "d250e6d09eb5437abe7e3bccd4704e4a",
      "d0f6cdb3567a4e168096f0cfc6d9f6b7",
      "9ae57dc0036a4721b6a7f0ecc1be926a",
      "d70896f00c6f44fea9b09803b1d24745",
      "6e7a7a714d464145be5958927d0038d6",
      "11f638ba13784b52ac081872ffa0f64c",
      "e92cc06637e14136b2d2a607dcb6a170",
      "ee48d2b74f3f4b31b86841cbf184cba0",
      "690eedb52fb74e0d8ce65366f8805af3",
      "954901d26ad349179e3c58e8b4ade60f",
      "d0bbc67e61b2498a9ef4c2bb25db6199",
      "b196418872804fc8a9a5e7c1a97a6ccf",
      "df5f7b4c56bb4bd3b09f56c0ea7f7531",
      "212656b2321b4c17ac34e63706d9f9ab",
      "778276dbe4bc46cbbe5232758bf03ffb",
      "bf2bc9429107448e83642ffb1e9ce5f2",
      "1e830392621c4b7dac91c7208dddd786",
      "336ce8dda42747238d6bc25645e6d0db",
      "e777214cf786487badb320a26a5345e1",
      "f5db31c651cf4b46a976b6af56d76faa",
      "ae849149d9bb4403ba4e90ba8aca15ef",
      "faaff67922204884a17c3d85835e6668",
      "b6c875aa14d7469bbc6683af2fd02a3b",
      "26539249087d46f88c26f5f44c147fde",
      "33f894eaa2594ebd99f31f8c472f727d",
      "fec893ccf2be4b03bcd66c8320bbd03d",
      "7c0e2cf50f5c494dafd11483e2aea715",
      "0deedfea78d0414e922b097dd857ed9f",
      "4c3e7fc2c10a48dabada749b17478e14",
      "3fd1fe3d9ce642c6ae5ffaca4121b335",
      "e3df6a932c8b47a3b4173f7b19483b14",
      "c44a4b21366043689db6eaa92328da0a",
      "fedc09bfa4a042d9aa3a5e8068e7bba1",
      "32872439dfb646b3ad1e69e9c4e9dd33",
      "676338523cf14760ae297f987edf5d6e",
      "3de88475f77741c8b308591d6e32cda4",
      "58dd697327ef43d2bc2a30f31928b5f7",
      "c10cf6d82db04b869161f858ea551676",
      "ada037b3a89c4c93adadc9bf68f57076",
      "8d9cbe554ac74ffe95af7e60f4dced97",
      "6f37207cdce74acf9a0802c2e5430295",
      "e30cc16b0e494b25bde5d376b86f453f",
      "abdaa721f8924058a381484a0ce357e8",
      "fe81e7d33e904196aa8e6d80bcde12ec",
      "c332eee2cc2f4144b17b4bb4c303f1d2",
      "b84805240ecf4c90b87c8851733ce8ce",
      "6c9fcb1b590e4351a7355a63732a8008",
      "62e15290d9e542c68ac438971719a41f",
      "c74674d3ca154fababf03095aafa64b7",
      "ebefff2d5154483bb70fad0fd523fe77",
      "ba2c54169a8941fb8564deffd83eaf1e",
      "d3e4c7025dbe45709c570d9c2cf9b484",
      "7ee945aec3364229a2da03766d1e6517",
      "86dff7160c9b47ab9beb0887a316dc96",
      "38b511c9b54f4d198f52a0981779f73f",
      "b540582dbf244178af8527395362eb92",
      "b8f9cf7b858c4c9a8b8cd3095851ddbf",
      "3c94530d77ce4f56bdb74a09b6c631c1",
      "480d2540418046c8a2fc62b935898d0c",
      "95a861fb300a41cd9c3a76583a16435b",
      "63b4677bd5b5490ebaeb7e356018b330",
      "95acb38f59264695b8772c678fe0d57f",
      "18bca26edff2466d86c11115497e4c36",
      "2f1f5596e3aa47cab37cef483792e683",
      "ff5624360d8c4fa59e0c6d100b422c28",
      "fd67872b6f434f7f82a9d6f49119145e",
      "4dacad013cb24def9125ef110c28560a",
      "4c281d04d4b447aca4b930a0ef9f48f4",
      "648fb58db7764c09aa7dd286f3f03a1e",
      "bf3a184b2e0c4d4ca7f18cce40404dd2",
      "a36f524d50a246948dc9e082f270e4ee",
      "e375aa5717a44ac49919a2d2f7ece1bb",
      "eff03b26e59743e59960869717eabc49",
      "78c3edf7e97e41ddb5449db50b3b8f6c",
      "ea522b821f084ea0b1afcefb05518234",
      "411b63448e764fcaadcce2e001bfb7fc",
      "aa393a38ec464014adeedebf37688dd3",
      "6083e09f7d5a4bbaa0f7272c60cd2ad4",
      "7a447b12742048beba685c8f330e74ee",
      "a098d8c7950348cf9a38169ce94fbeb9",
      "a1ace7f1b7f248089303c3f0da0b5ec2",
      "f316f9f95aef42f2b2596759fcb83fed",
      "f3c148e653084389b95815ff22e78d37",
      "f0651a14767242bb9c778a09c78b1d40",
      "22b75c22913b47fabffd6ab43e9d6332",
      "6a1a14449aaf47a2970fa99f3092cbc5",
      "ac50f0ff9aff4934b4c9b938ccf0ff01",
      "9d5dca38752b48938d5251ffdbf1310b",
      "a723562df48f46159acfc9a9f0bcd638",
      "e4d37488851b438dbe8d430f893be52d",
      "80da255012a94796b40a8c5467fd8e58",
      "3ea712b5212d4796ba267c1629b2e043",
      "4640659a43674c6480ad3dc50b04e18a",
      "58fba148cfe04870ad714ad349775249",
      "1ad8f46895fc4e20b7237e947ba49573",
      "9a7310759ea44c31a156a2b11d30da34",
      "1c1d4204b27946abb870008081d5825b",
      "db1c3efbd37349adb77c2bc17d0c7e43",
      "601e87c5345245818098f21e6f368068",
      "af0a1694dd2f453692f5652e27c79ea8",
      "27ceebfcf5ab4bfea47ebe21f054a99c",
      "33dac545ca0242a4bbb34e68bf0da1a2",
      "fc19597a64744a08aa462581e5533f4f",
      "3c1970026b364f7b8522943633dfdd6e",
      "8786c43d45fc4f7291c18e431fa3d55b",
      "6568e59bba1d4b7fa36ec02c05346f3b",
      "3393066d949b40ceaf7c9cf4f02ccb67",
      "a59198a606de4c96a26997d16894d6f3",
      "180797f0b8c34f72ab8230d185b0f744",
      "0ad98ce641b64552b249e58fddcd2567",
      "940b749655c24b1592b93c8df025fa0a",
      "d3896f6512aa404391e4855a8fb9c888",
      "aa49f8afefb44ce1a6be0f378f589141",
      "e229a21ea99f40d38e1e5c7b635426ff",
      "a8a78bde05a4440a9ed68682bf1c36a7",
      "8e99eb800e664b23aaefcde78f6af1eb",
      "88b0956ba0f341a78206555622a29e3b",
      "d7f7570b20dc474b8ba7cd1d025bc842",
      "e0bb2b94469a4262a2cc52d1cbd6a276",
      "36868be49dba4aa1a73acfce27d1b889",
      "f69d51cbe7a74e4897b5ed4e38620bee",
      "25288f270fe8478dbf54a9c57c26d6a1",
      "1bdb85d71dc242eea4423494010c4fbd",
      "54a8246c5f0b46938ca824fe57203497",
      "bea052e3036a4b43af3c06ee028159c9",
      "94f43a772cfd4869848740946ee79082",
      "984fd97d9ff84646910250dfa60419c1",
      "a847072dd5284fb9aca6673952c57d71",
      "3d618ca978fb47adb2284630a31298b8",
      "aaa8602b29d743aeb6ef86cd22d51074",
      "c8d0382d16e44ac686d6ab0bbd519222",
      "cab70073e6d448009d0e7ac67d2a3fbb",
      "3325eb763f2941afaae53f0dde231528",
      "7c8697b23f534a53968747e2748b8264",
      "00e8eaf2ee9e4d4f98c9c7df197ecff6",
      "bb700024e7b24c9393d073b5baf50fed",
      "604193e576bb4be78bc05ff09201907e",
      "2c128702e29e4b618b11829303adf593",
      "63a4f2f62e9941a8a677e463a11af956",
      "5ce8c794fc4941f2a3406c4cfd261f42",
      "19e99362da824e9cbd0571c9b835b4e7",
      "a1df3c201e5741418877667582882978",
      "64382b8aeecc4375b3eedf0ace3da2d7",
      "2334336f9fab49f0b943ac74a92f8e51",
      "c7a5843177b849df9bbc73b704c6ca2d",
      "17bf6d4f902947f6b37e8b8d5dbe569a",
      "f995efafce764b7b9c7d4093647f93f9",
      "be7ecdece72f46ecacdf8b2966696149",
      "095bc5bec60b40d8a1c8bc88ab16080c",
      "b1c014a16d984896a664f2a7ce782c0b",
      "8406d90305ba4a968e479a2ff7ddee8b"
     ]
    },
    "id": "9chc00gFNdZS",
    "outputId": "8c4a8214-10ae-46d4-c888-83e86236a345"
   },
   "outputs": [
    {
     "name": "stderr",
     "output_type": "stream",
     "text": [
      "/usr/local/lib/python3.11/dist-packages/huggingface_hub/utils/_auth.py:94: UserWarning: \n",
      "The secret `HF_TOKEN` does not exist in your Colab secrets.\n",
      "To authenticate with the Hugging Face Hub, create a token in your settings tab (https://huggingface.co/settings/tokens), set it as secret in your Google Colab and restart your session.\n",
      "You will be able to reuse this secret in all of your notebooks.\n",
      "Please note that authentication is recommended but still optional to access public models or datasets.\n",
      "  warnings.warn(\n"
     ]
    },
    {
     "data": {
      "application/vnd.jupyter.widget-view+json": {
       "model_id": "34af61f6992c42689e29348a4bfb4666",
       "version_major": 2,
       "version_minor": 0
      },
      "text/plain": [
       "README.md:   0%|          | 0.00/386 [00:00<?, ?B/s]"
      ]
     },
     "metadata": {},
     "output_type": "display_data"
    },
    {
     "data": {
      "application/vnd.jupyter.widget-view+json": {
       "model_id": "790c9a60b2c04312897612a3334d963d",
       "version_major": 2,
       "version_minor": 0
      },
      "text/plain": [
       "train.csv:   0%|          | 0.00/2.03G [00:00<?, ?B/s]"
      ]
     },
     "metadata": {},
     "output_type": "display_data"
    },
    {
     "data": {
      "application/vnd.jupyter.widget-view+json": {
       "model_id": "5c49840d21c54e7f9c8d5b9f4c240903",
       "version_major": 2,
       "version_minor": 0
      },
      "text/plain": [
       "test.csv:   0%|          | 0.00/870M [00:00<?, ?B/s]"
      ]
     },
     "metadata": {},
     "output_type": "display_data"
    },
    {
     "data": {
      "application/vnd.jupyter.widget-view+json": {
       "model_id": "ec32bd8ffbdc4ab2be357e8bb9aa648b",
       "version_major": 2,
       "version_minor": 0
      },
      "text/plain": [
       "Generating train split:   0%|          | 0/1187781 [00:00<?, ? examples/s]"
      ]
     },
     "metadata": {},
     "output_type": "display_data"
    },
    {
     "data": {
      "application/vnd.jupyter.widget-view+json": {
       "model_id": "f1bfb3a4952d48fd88d25d58089b69b4",
       "version_major": 2,
       "version_minor": 0
      },
      "text/plain": [
       "Generating test split:   0%|          | 0/509050 [00:00<?, ? examples/s]"
      ]
     },
     "metadata": {},
     "output_type": "display_data"
    },
    {
     "data": {
      "application/vnd.jupyter.widget-view+json": {
       "model_id": "690eedb52fb74e0d8ce65366f8805af3",
       "version_major": 2,
       "version_minor": 0
      },
      "text/plain": [
       "Map:   0%|          | 0/1187781 [00:00<?, ? examples/s]"
      ]
     },
     "metadata": {},
     "output_type": "display_data"
    },
    {
     "data": {
      "application/vnd.jupyter.widget-view+json": {
       "model_id": "f5db31c651cf4b46a976b6af56d76faa",
       "version_major": 2,
       "version_minor": 0
      },
      "text/plain": [
       "Map:   0%|          | 0/254525 [00:00<?, ? examples/s]"
      ]
     },
     "metadata": {},
     "output_type": "display_data"
    },
    {
     "data": {
      "application/vnd.jupyter.widget-view+json": {
       "model_id": "e3df6a932c8b47a3b4173f7b19483b14",
       "version_major": 2,
       "version_minor": 0
      },
      "text/plain": [
       "Map:   0%|          | 0/254525 [00:00<?, ? examples/s]"
      ]
     },
     "metadata": {},
     "output_type": "display_data"
    },
    {
     "data": {
      "application/vnd.jupyter.widget-view+json": {
       "model_id": "e30cc16b0e494b25bde5d376b86f453f",
       "version_major": 2,
       "version_minor": 0
      },
      "text/plain": [
       "Uploading the dataset shards:   0%|          | 0/5 [00:00<?, ?it/s]"
      ]
     },
     "metadata": {},
     "output_type": "display_data"
    },
    {
     "data": {
      "application/vnd.jupyter.widget-view+json": {
       "model_id": "7ee945aec3364229a2da03766d1e6517",
       "version_major": 2,
       "version_minor": 0
      },
      "text/plain": [
       "Creating parquet from Arrow format:   0%|          | 0/238 [00:00<?, ?ba/s]"
      ]
     },
     "metadata": {},
     "output_type": "display_data"
    },
    {
     "data": {
      "application/vnd.jupyter.widget-view+json": {
       "model_id": "2f1f5596e3aa47cab37cef483792e683",
       "version_major": 2,
       "version_minor": 0
      },
      "text/plain": [
       "Creating parquet from Arrow format:   0%|          | 0/238 [00:00<?, ?ba/s]"
      ]
     },
     "metadata": {},
     "output_type": "display_data"
    },
    {
     "data": {
      "application/vnd.jupyter.widget-view+json": {
       "model_id": "ea522b821f084ea0b1afcefb05518234",
       "version_major": 2,
       "version_minor": 0
      },
      "text/plain": [
       "Creating parquet from Arrow format:   0%|          | 0/238 [00:00<?, ?ba/s]"
      ]
     },
     "metadata": {},
     "output_type": "display_data"
    },
    {
     "data": {
      "application/vnd.jupyter.widget-view+json": {
       "model_id": "6a1a14449aaf47a2970fa99f3092cbc5",
       "version_major": 2,
       "version_minor": 0
      },
      "text/plain": [
       "Creating parquet from Arrow format:   0%|          | 0/238 [00:00<?, ?ba/s]"
      ]
     },
     "metadata": {},
     "output_type": "display_data"
    },
    {
     "data": {
      "application/vnd.jupyter.widget-view+json": {
       "model_id": "1c1d4204b27946abb870008081d5825b",
       "version_major": 2,
       "version_minor": 0
      },
      "text/plain": [
       "Creating parquet from Arrow format:   0%|          | 0/238 [00:00<?, ?ba/s]"
      ]
     },
     "metadata": {},
     "output_type": "display_data"
    },
    {
     "data": {
      "application/vnd.jupyter.widget-view+json": {
       "model_id": "a59198a606de4c96a26997d16894d6f3",
       "version_major": 2,
       "version_minor": 0
      },
      "text/plain": [
       "Uploading the dataset shards:   0%|          | 0/1 [00:00<?, ?it/s]"
      ]
     },
     "metadata": {},
     "output_type": "display_data"
    },
    {
     "data": {
      "application/vnd.jupyter.widget-view+json": {
       "model_id": "e0bb2b94469a4262a2cc52d1cbd6a276",
       "version_major": 2,
       "version_minor": 0
      },
      "text/plain": [
       "Creating parquet from Arrow format:   0%|          | 0/255 [00:00<?, ?ba/s]"
      ]
     },
     "metadata": {},
     "output_type": "display_data"
    },
    {
     "data": {
      "application/vnd.jupyter.widget-view+json": {
       "model_id": "aaa8602b29d743aeb6ef86cd22d51074",
       "version_major": 2,
       "version_minor": 0
      },
      "text/plain": [
       "Uploading the dataset shards:   0%|          | 0/1 [00:00<?, ?it/s]"
      ]
     },
     "metadata": {},
     "output_type": "display_data"
    },
    {
     "data": {
      "application/vnd.jupyter.widget-view+json": {
       "model_id": "19e99362da824e9cbd0571c9b835b4e7",
       "version_major": 2,
       "version_minor": 0
      },
      "text/plain": [
       "Creating parquet from Arrow format:   0%|          | 0/255 [00:00<?, ?ba/s]"
      ]
     },
     "metadata": {},
     "output_type": "display_data"
    },
    {
     "data": {
      "application/vnd.google.colaboratory.intrinsic+json": {
       "type": "string"
      },
      "text/plain": [
       "CommitInfo(commit_url='https://huggingface.co/datasets/gates04/dummy-network-intrusion-dataset/commit/48315a3f254cdc573022a24dbc32efd8cd7ea5d4', commit_message='Upload dataset', commit_description='', oid='48315a3f254cdc573022a24dbc32efd8cd7ea5d4', pr_url=None, repo_url=RepoUrl('https://huggingface.co/datasets/gates04/dummy-network-intrusion-dataset', endpoint='https://huggingface.co', repo_type='dataset', repo_id='gates04/dummy-network-intrusion-dataset'), pr_revision=None, pr_num=None)"
      ]
     },
     "execution_count": 3,
     "metadata": {},
     "output_type": "execute_result"
    }
   ],
   "source": [
    "from datasets import load_dataset, DatasetDict, concatenate_datasets\n",
    "from sklearn.model_selection import train_test_split\n",
    "\n",
    "dataset = load_dataset(\"rdpahalavan/network-packet-flow-header-payload\")\n",
    "\n",
    "merged_data = concatenate_datasets([dataset[\"train\"], dataset[\"test\"]])\n",
    "\n",
    "# %70 train, %15 validation, %15 test\n",
    "train_valid_test = merged_data.train_test_split(test_size=0.3, shuffle=True, seed=42)\n",
    "valid_test = train_valid_test[\"test\"].train_test_split(test_size=0.5, shuffle=True, seed=42)\n",
    "\n",
    "train_valid_test[\"train\"].set_format(\"torch\", columns=[\"packet_dat\", \"attack_cat\"])\n",
    "valid_test[\"train\"].set_format(\"torch\", columns=[\"packet_dat\", \"attack_cat\"])\n",
    "valid_test[\"test\"].set_format(\"torch\", columns=[\"packet_dat\", \"attack_cat\"])\n",
    "\n",
    "final_dataset = DatasetDict({\n",
    "    \"train\": train_valid_test[\"train\"],\n",
    "    \"validation\": valid_test[\"train\"],\n",
    "    \"test\": valid_test[\"test\"]\n",
    "})\n",
    "\n",
    "final_dataset.push_to_hub(\"gates04/network-intrusion-dataset\")"
   ]
  },
  {
   "cell_type": "markdown",
   "metadata": {
    "id": "UvjHNRNqcXLS"
   },
   "source": []
  },
  {
   "cell_type": "code",
   "execution_count": null,
   "metadata": {
    "colab": {
     "base_uri": "https://localhost:8080/",
     "height": 499,
     "referenced_widgets": [
      "b6040c349ecc46589fd2531b709554be",
      "ebbd8dd6026640dda793174c754fcf1d",
      "fb8fa78c4e394b7cb6e0adc36c35cf12",
      "0ff6c07cc6ac430e8312c27069715944",
      "aa6f5b98374349d0a4301a8434c3c13c",
      "48b78e4997fe4ac680668c6a1e287c2a",
      "d3f79a756fe740b9a0788cdd149f32c1",
      "7281c8516ec44e2bbf6289dc06665512",
      "8226bdb4c5ed43c68075a96762c56d39",
      "0133f5aefb324b70a448c363e689f667",
      "581559b7c158484194fc521e031d3cc1",
      "e0f1188551304561b3f74fc5e3652c33",
      "491fb2c5f9de468e84107548cf1fe27c",
      "88e0c2abcb2c4b5fb1dd798b59548185",
      "bed908dbe5bd4d4ab7dbe10c47bf3f4a",
      "d87decb71147449a82fa7c4ac31d83d7",
      "5b55343300ee43ea835d34659cdf651c",
      "5afb431045da41809c3dde60db0e3b01",
      "bf58d86cc17b488787286c78873e0f7a",
      "bed6f3f56e53464387c96ad738d4117b",
      "902855c12aa945bb8b41d414a8dc15a0",
      "a56aa3ab5dc147948e91e2f03a80e621",
      "63d8656b83dd4314a903c7894e754601",
      "49c00d65c1ff442b8c91a0fbf8769253",
      "efedb23c6ffe4316b82a8d1605080429",
      "5ea9f4e7658146a4a571ed68a409fd5a",
      "65b18050dc4947ba95d2f0635428059a",
      "1c7ed73ebb964d37809164c0c2cd1251",
      "b0b7cf94697b4df2b14454e6b014317b",
      "66949c8dbb9848eb83b429151ce26719",
      "c795d86c9da74f79b3b084fe1fd41f59",
      "a4fbce81a1324b85a1f9e0dda7b94608",
      "faa024607102444db5f2cc3176a03b21",
      "9e66583a347942d78b2d20a42eeceb82",
      "5db22d8cb79947a7a2fc3399b7c27c05",
      "4d3bf7b86a464216936a2fa6e35d9dbd",
      "5708d8c191914400a8afecb22590919e",
      "70fde124c9644deaacfaf4be564a305f",
      "c949b4bb98c449b8be5de1eb63437fa6",
      "3beb7de2e928468885d9d134992e6df4",
      "7cf067eba17344e1bbc7272da81dfb3b",
      "f158ef6562d04097a31b4eb0464843cb",
      "5703cef2b33642329357ba436149cb4e",
      "85eb2aca835e496e81fa98f610e37168",
      "afe8007bd0df4a09ba618d9c4775a26b",
      "7bb6ce4816684ea1b91ff7d1f3841ca2",
      "2f1d50ff71a44033a2e561634a117212",
      "ed71e9801a6443b5b843e878a1c3f4ed",
      "54ebf517dae84b979d83bd361006c6b2",
      "940b1b23060848dbb45799395a7f3388",
      "a8a255b59ff244d5a18c53556a7a6962",
      "276d427b1abb48c48df698042ff77a50",
      "f7297eba42af4ca5a8c54bef0ce2d44b",
      "8b6ae3e4bd1049c4bfb7157cde1ddbfa",
      "3cef30e35de942bc9ee7f6f74119068f",
      "ea8980f7ed114ecea0365711042f1e5d",
      "b922152eb2d343a2a6fe0c8a26132db1",
      "94960e67efeb40ea99d4bb74670e01c7",
      "9f7aec00566c45898dbf983003ce353b",
      "7c18a5759b5b41f4836d4f29283ba6a3",
      "5bcdc7965fad420bbd286acac6b74b8d",
      "d6dda2e36400454f85d1610f42ea53bc",
      "c34515a3535e4ed389ecbae2ec78defd",
      "17a33a45fa454499bbfb511c450d97a6",
      "66982477f63d442cb66c99a9c5e55b41",
      "f84f04d80a7a449bb463a6f2503ae832",
      "837fce931d2248efb02f28f7b08a43f1",
      "ff8cbcec049c4489a8da62e2915da216",
      "dc162678bb5643658ffca4eeb0f33527",
      "9b7cd12d0d114351b1707d4c41b6cfdd",
      "d8c96e3752ff4b5585f7d6e94d97976d",
      "65fe0b0922cb4caaa69f932f4d13bbdd",
      "cea18e9155264d95a2915c8e95cbbab8",
      "90d2b9a962f746ea80f72fdc1d1e5ca5",
      "38a7797dcdb04985b6d395cfb1d87ff7",
      "0326dccdfc8b469ba792e48a801fb51b",
      "ffda395f1f594cc9ae351eb6f7357b8d",
      "3639f3624d724605b389d609a93e6440",
      "b19af78ec3fe48338712db5755924fec",
      "12ddee3c63e943c09e3aa9e1862aa9c9",
      "31595e469d6c4a22b4ce2a50b3e10290",
      "755de3c6c45c4ce7b05b64e759b7a4f2",
      "ea350d269cd9480e8c39cd123d5cfa1c",
      "4783d858e6f44aeabc09ffe62543815a",
      "036b19af390a4654a510cb53d3d32be7",
      "90e2776a6fbb440ab19976071837a37f",
      "5aa05f19014f4512aff789bf5b525276",
      "36c4fa570e444d2c9e668f027a6688e8",
      "d186e25b71854db7a08e2165eff77e0f",
      "53b95cb84e1d499c8768dd29e72f811a",
      "52e1c996aebc4d9c8ddfc626ce296c53",
      "db98ff326bf246bd9a14a84a30c3ceb6",
      "eb1eef5ce54b40bca712329570f9c0e8",
      "176c3d43edf2415591366bcc634f6937",
      "8bc5d97a3528411a99c6cee402ab4d64",
      "01fcd271a7444d2ba814d41a1abc4b91",
      "56b9cb6e173947b8a0dcdc4b062c9b76",
      "dd7d12de94ab44e0998c206173dbc3da",
      "a4c2ab97060f45f28d115f0b4a5ecdb3",
      "6fe6185d08264c648bcc6283a18f0d8f",
      "334a81750f9446e68d98b7b03119cca6",
      "42a872036ca14b20944c3c93671224d1",
      "adc610a10faf4ebeb3fc2689a5f1c43f",
      "a8107788593e4e5d8dd20b90a47990af",
      "ba7eba2806724ebcaf783cc81abe9027",
      "805c238057034041b35fe27719e9e5f0",
      "ac5f2c1ead0f4db19ed2f293a639f71f",
      "a0481b9b828c4ee6881f175404a72642",
      "0793a68e2d5f47ba83d9409dbecc039e",
      "04d2ba57161a4a5c9d69c8bb7cd6ef81",
      "e3f6bf2dd29c4dadad9a6884ef45a0bd",
      "09ae965c90cb45cdac947d0aeb9fef81",
      "e061684ee1164b18bc2dfa40dad32ece",
      "92a38760e45042cdb94858d5243f8872",
      "ccc688c6f19143bb864637a2a25a73de",
      "db5673640579471e8ce7d510f507ad76",
      "67a4a9c9c9194060baadcd3b68c9e5e1",
      "283cf0869cbc431f81b515b56f47bca0",
      "4b25fed6a9ff47fb8fe81ba4fc58af34",
      "b1ea860726e64ece86180bebc2c2f8b9",
      "3181a5c3730e4cf1bda77e9d4fd40f69"
     ]
    },
    "id": "C3HWlqyROEez",
    "outputId": "85529c9a-ce27-4131-a0e8-d9d8d22da4aa"
   },
   "outputs": [
    {
     "data": {
      "application/vnd.jupyter.widget-view+json": {
       "model_id": "b6040c349ecc46589fd2531b709554be",
       "version_major": 2,
       "version_minor": 0
      },
      "text/plain": [
       "README.md:   0%|          | 0.00/586 [00:00<?, ?B/s]"
      ]
     },
     "metadata": {},
     "output_type": "display_data"
    },
    {
     "data": {
      "application/vnd.jupyter.widget-view+json": {
       "model_id": "e0f1188551304561b3f74fc5e3652c33",
       "version_major": 2,
       "version_minor": 0
      },
      "text/plain": [
       "train-00000-of-00005.parquet:   0%|          | 0.00/135M [00:00<?, ?B/s]"
      ]
     },
     "metadata": {},
     "output_type": "display_data"
    },
    {
     "data": {
      "application/vnd.jupyter.widget-view+json": {
       "model_id": "63d8656b83dd4314a903c7894e754601",
       "version_major": 2,
       "version_minor": 0
      },
      "text/plain": [
       "train-00001-of-00005.parquet:   0%|          | 0.00/135M [00:00<?, ?B/s]"
      ]
     },
     "metadata": {},
     "output_type": "display_data"
    },
    {
     "data": {
      "application/vnd.jupyter.widget-view+json": {
       "model_id": "9e66583a347942d78b2d20a42eeceb82",
       "version_major": 2,
       "version_minor": 0
      },
      "text/plain": [
       "train-00002-of-00005.parquet:   0%|          | 0.00/135M [00:00<?, ?B/s]"
      ]
     },
     "metadata": {},
     "output_type": "display_data"
    },
    {
     "data": {
      "application/vnd.jupyter.widget-view+json": {
       "model_id": "afe8007bd0df4a09ba618d9c4775a26b",
       "version_major": 2,
       "version_minor": 0
      },
      "text/plain": [
       "train-00003-of-00005.parquet:   0%|          | 0.00/135M [00:00<?, ?B/s]"
      ]
     },
     "metadata": {},
     "output_type": "display_data"
    },
    {
     "data": {
      "application/vnd.jupyter.widget-view+json": {
       "model_id": "ea8980f7ed114ecea0365711042f1e5d",
       "version_major": 2,
       "version_minor": 0
      },
      "text/plain": [
       "train-00004-of-00005.parquet:   0%|          | 0.00/136M [00:00<?, ?B/s]"
      ]
     },
     "metadata": {},
     "output_type": "display_data"
    },
    {
     "data": {
      "application/vnd.jupyter.widget-view+json": {
       "model_id": "837fce931d2248efb02f28f7b08a43f1",
       "version_major": 2,
       "version_minor": 0
      },
      "text/plain": [
       "validation-00000-of-00001.parquet:   0%|          | 0.00/145M [00:00<?, ?B/s]"
      ]
     },
     "metadata": {},
     "output_type": "display_data"
    },
    {
     "data": {
      "application/vnd.jupyter.widget-view+json": {
       "model_id": "3639f3624d724605b389d609a93e6440",
       "version_major": 2,
       "version_minor": 0
      },
      "text/plain": [
       "test-00000-of-00001.parquet:   0%|          | 0.00/145M [00:00<?, ?B/s]"
      ]
     },
     "metadata": {},
     "output_type": "display_data"
    },
    {
     "data": {
      "application/vnd.jupyter.widget-view+json": {
       "model_id": "d186e25b71854db7a08e2165eff77e0f",
       "version_major": 2,
       "version_minor": 0
      },
      "text/plain": [
       "Generating train split:   0%|          | 0/1187781 [00:00<?, ? examples/s]"
      ]
     },
     "metadata": {},
     "output_type": "display_data"
    },
    {
     "data": {
      "application/vnd.jupyter.widget-view+json": {
       "model_id": "6fe6185d08264c648bcc6283a18f0d8f",
       "version_major": 2,
       "version_minor": 0
      },
      "text/plain": [
       "Generating validation split:   0%|          | 0/254525 [00:00<?, ? examples/s]"
      ]
     },
     "metadata": {},
     "output_type": "display_data"
    },
    {
     "data": {
      "application/vnd.jupyter.widget-view+json": {
       "model_id": "e3f6bf2dd29c4dadad9a6884ef45a0bd",
       "version_major": 2,
       "version_minor": 0
      },
      "text/plain": [
       "Generating test split:   0%|          | 0/254525 [00:00<?, ? examples/s]"
      ]
     },
     "metadata": {},
     "output_type": "display_data"
    },
    {
     "name": "stdout",
     "output_type": "stream",
     "text": [
      "{'packet_dat': '97 24 1336 -1 443 51965 1450 1410 83 0 5 0 -1 138 125 185 124 217 123 114 239 112 69 146 242 220 255 147 20 224 192 191 184 147 68 183 93 51 80 221 227 1 33 127 41 143 57 215 109 156 126 59 109 203 192 254 10 237 9 44 36 52 228 181 225 184 83 123 205 99 25 77 149 40 231 12 109 230 84 98 198 163 243 65 45 124 142 67 162 36 14 49 83 181 89 124 5 84 187 10 25 161 157 224 91 251 250 85 204 109 32 8 209 184 222 26 53 93 215 26 28 24 228 173 189 198 5 133 158 184 131 217 206 91 58 243 185 211 176 106 254 209 165 170 163 151 163 252 242 166 144 18 239 195 13 191 164 251 226 59 55 235 190 208 80 128 134 109 104 153 230 236 30 83 247 121 189 114 32 11 86 30 128 175 88 12 7 205 246 185 50 117 9 11 60 25 157 186 115 130 112 174 246 190 97 37 19 126 117 80 111 212 174 116 69 176 240 237 50 196 13 228 216 199 157 107 103 40 149 39 160 78 40 198 51 20 15 47 36 138 143 138 54 121 53 140 157 8 15 215 124 181 61 171 77 179 166 53 182 252 249 218 34 0 160 204 126 121 137 55 1 113 141 6 130 157 53 10 143 3 203 13 140 92 218 92 4 96 151 107 33 201 78 216 157 63 3 251 70 151 13 23 47 234 55 12 140 147 130 57 132 55 164 19 222 42 106 66 195 216 171 186 23 3 3 5 244 70 146 33 144 248 98 247 68 216 203 33 26 202 159 61 244 53 33 10 122 93 151 77 23 198 240 156 85 69 204 224 119 73 56 130 142 141 141 253 139 155 2 169 57 197 15 168 91 192 99 97 140 8 8 227 111 60 246 170 91 191 70 139 239 116 229 152 218 146 188 141 196 83 99 44 23 17 195 65 99 191 65 161 236 134 193 160 159 214 160 82 232 72 197 239 85 11 249 57 104 43 162 221 205 33 97 247 33 194 46 49 155 115 140 213 136 14 232 193 249 130 208 80 165 55 254 201 136 135 39 160 54 196 220 47 248 54 178 161 209 56 184 253 59 33 164 188 145 31 69 156 212 40 88 134 126 15 223 184 91 131 211 68 50 80 238 75 223 207 138 2 234 69 120 196 43 86 33 28 112 220 132 84 39 137 151', 'attack_cat': 'Normal'}\n",
      "{'packet_dat': '1685 2240 4954896 -1 80 49647 1500 1460 118 0 5 0 -1 146 223 52 248 95 122 145 60 172 251 94 36 15 234 166 26 201 31 246 169 73 62 239 168 154 228 49 3 254 47 103 88 237 100 107 119 182 64 255 62 50 97 208 254 158 50 33 58 254 125 101 66 95 251 151 193 75 132 53 222 103 139 27 82 168 13 15 211 80 207 13 102 152 124 254 235 66 237 133 223 24 38 63 191 10 119 21 255 8 134 201 63 61 203 48 121 245 61 67 237 232 199 54 123 227 169 246 220 241 133 201 15 221 202 48 121 70 127 66 195 228 241 107 130 186 87 229 63 203 176 30 86 115 125 87 73 61 57 182 223 218 155 232 100 226 71 51 172 137 243 30 81 143 217 176 66 98 43 14 43 30 86 227 176 62 157 76 253 55 72 253 129 195 138 133 239 45 172 138 217 188 215 251 129 215 247 83 198 207 95 117 35 250 225 12 211 241 71 44 227 244 252 17 203 10 150 52 177 22 125 113 115 153 133 75 61 172 75 111 220 251 189 53 186 207 45 186 84 159 78 149 198 103 28 219 47 67 241 182 134 101 148 14 55 98 25 162 199 58 88 49 111 135 19 235 122 82 149 118 30 42 200 27 126 84 18 182 229 36 95 64 142 40 156 46 183 127 141 45 150 137 201 204 125 47 103 249 105 149 94 191 124 27 119 221 202 143 145 215 156 179 166 88 27 199 79 177 50 254 59 118 220 224 49 121 205 21 23 232 82 221 125 164 200 90 162 222 246 51 158 69 178 91 100 214 231 219 197 139 199 141 23 110 116 144 34 103 122 200 105 222 20 107 153 174 99 117 160 52 41 96 156 19 159 110 220 194 85 199 211 106 99 103 45 254 187 21 43 118 135 6 240 218 85 245 244 55 200 9 225 107 49 88 86 185 137 138 229 175 150 8 172 103 27 150 151 81 133 226 176 202 88 102 102 165 67 96 125 54 101 105 190 42 99 45 91 84 41 124 43 78 245 178 169 110 188 130 123 185 1 234 185 182 204 203 123 232 91 193 195 173 208 147 46 253 87 100 127 54 243 251 173 159 113 147 222 140 19 246 91 113 111 191 23 108 202 225 57 95 142 184 181 215 11 182 225 224 237 206 201 164 63 224 214 156 233 80 42 214 104', 'attack_cat': 'Normal'}\n",
      "{'packet_dat': '1822 2427 5352432 -1 80 49647 2960 2920 118 0 5 0 -1 180 196 174 6 127 54 58 248 66 251 139 184 205 26 147 34 70 151 185 173 15 235 182 188 116 177 237 176 236 92 163 167 154 92 253 5 121 235 77 47 217 91 132 225 15 125 225 175 170 245 45 152 107 221 182 63 122 55 200 214 178 205 109 32 246 157 147 206 128 23 250 185 136 113 84 241 236 4 87 59 99 206 90 245 192 189 214 199 32 155 11 237 119 224 72 251 171 45 52 104 22 246 24 92 91 88 244 40 104 248 12 109 200 177 152 93 40 179 11 67 199 125 160 255 180 174 89 158 59 127 185 100 160 55 227 151 149 170 179 217 255 187 8 190 98 118 122 20 177 189 204 204 86 223 154 169 125 72 169 247 171 90 174 64 168 245 138 132 255 35 7 255 73 220 95 122 39 15 135 171 187 26 255 167 72 240 175 82 183 177 143 191 191 224 215 225 126 202 239 229 43 251 38 62 196 23 105 117 112 92 31 221 33 86 1 243 52 215 199 103 38 217 174 201 228 19 33 4 133 89 72 124 160 65 138 42 192 186 165 50 253 12 234 167 49 28 38 190 209 169 115 14 59 160 211 89 2 62 181 89 117 32 45 55 12 95 19 109 240 101 164 231 100 250 235 192 132 31 242 99 114 129 221 31 155 129 6 254 246 236 67 154 45 240 90 104 135 38 209 55 183 45 119 18 69 71 124 4 200 36 183 41 95 247 13 245 93 1 191 78 112 245 55 135 33 254 87 233 6 63 255 231 233 254 159 62 247 96 149 130 192 209 58 207 152 113 114 33 171 86 232 191 54 132 122 67 25 18 92 93 17 78 209 150 106 114 153 93 31 5 149 221 70 255 217 221 136 132 18 249 91 207 107 133 155 82 228 90 255 230 254 236 20 162 124 12 189 215 226 246 160 152 4 3 0 37 134 160 201 252 217 236 240 40 21 198 24 192 28 163 253 9 144 182 58 107 158 29 59 85 42 243 173 49 158 85 175 248 105 110 119 57 6 179 104 156 135 40 109 146 26 43 65 142 44 60 209 134 99 152 145 220 61 50 27 118 129 106 179 6 33 205 34 137 108 64 34 115 184 137 217 235 219 130 194 150 193 158 49 104 187 38 252 203 222 240 143 129 246 40', 'attack_cat': 'Normal'}\n",
      "1187781\n",
      "254525\n",
      "254525\n"
     ]
    }
   ],
   "source": [
    "from datasets import load_dataset\n",
    "\n",
    "dataset = load_dataset(\"gates04/network-intrusion-dataset\")\n",
    "\n",
    "train_data = dataset[\"train\"]\n",
    "validation_data = dataset[\"validation\"]\n",
    "test_data = dataset[\"test\"]\n",
    "\n",
    "# Display Sample Data from Final Intrusion Detection Dataset\n",
    "print(train_data[0])\n",
    "print(validation_data[0])\n",
    "print(test_data[0])\n",
    "\n",
    "print(len(train_data))\n",
    "print(len(validation_data))\n",
    "print(len(test_data))"
   ]
  },
  {
   "cell_type": "code",
   "execution_count": null,
   "metadata": {
    "colab": {
     "base_uri": "https://localhost:8080/"
    },
    "id": "7YHCCKkZOhuc",
    "outputId": "2229bf2c-0add-4057-ae24-3d1a5d484c1d"
   },
   "outputs": [
    {
     "name": "stdout",
     "output_type": "stream",
     "text": [
      "Train sütunları: ['packet_dat', 'attack_cat']\n",
      "Validation sütunları: ['packet_dat', 'attack_cat']\n",
      "Test sütunları: ['packet_dat', 'attack_cat']\n"
     ]
    }
   ],
   "source": [
    "from datasets import load_dataset\n",
    "\n",
    "dataset = load_dataset(\"gates04/network-intrusion-dataset\")\n",
    "\n",
    "print(\"Train sütunları:\", dataset[\"train\"].column_names)\n",
    "print(\"Validation sütunları:\", dataset[\"validation\"].column_names)\n",
    "print(\"Test sütunları:\", dataset[\"test\"].column_names)"
   ]
  },
  {
   "cell_type": "code",
   "execution_count": null,
   "metadata": {
    "colab": {
     "base_uri": "https://localhost:8080/"
    },
    "id": "kB90Fhy9OrRm",
    "outputId": "2258148e-1ed5-4ea4-c507-5f7c8c538f6f"
   },
   "outputs": [
    {
     "name": "stdout",
     "output_type": "stream",
     "text": [
      "Unique attack_cat values: {'DDoS', 'Shellcode', 'Fuzzers', 'DoS SlowHTTPTest', 'DoS GoldenEye', 'SSH Patator', 'Exploits', 'DoS', 'Worms', 'Heartbleed', 'Generic', 'Backdoor', 'DoS Slowloris', 'FTP Patator', 'Bot', 'Normal', 'Reconnaissance', 'Web Attack - XSS', 'Port Scan', 'Analysis', 'Web Attack - Brute Force', 'DoS Hulk', 'Infiltration', 'Web Attack - SQL Injection'}\n",
      "Unique attack_cat count: 24\n"
     ]
    }
   ],
   "source": [
    "unique_attack_cats = set(dataset[\"train\"][\"attack_cat\"])\n",
    "print(\"Unique attack_cat values:\", unique_attack_cats)\n",
    "print(\"Unique attack_cat count:\", len(unique_attack_cats))"
   ]
  }
 ],
 "metadata": {
  "accelerator": "GPU",
  "colab": {
   "gpuType": "L4",
   "machine_shape": "hm",
   "provenance": []
  },
  "kernelspec": {
   "display_name": "Python 3 (ipykernel)",
   "language": "python",
   "name": "python3"
  },
  "language_info": {
   "codemirror_mode": {
    "name": "ipython",
    "version": 3
   },
   "file_extension": ".py",
   "mimetype": "text/x-python",
   "name": "python",
   "nbconvert_exporter": "python",
   "pygments_lexer": "ipython3",
   "version": "3.13.1"
  }
 },
 "nbformat": 4,
 "nbformat_minor": 4
}
